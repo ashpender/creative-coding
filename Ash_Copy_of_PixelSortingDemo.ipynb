{
  "nbformat": 4,
  "nbformat_minor": 0,
  "metadata": {
    "colab": {
      "provenance": [],
      "include_colab_link": true
    },
    "kernelspec": {
      "name": "python3",
      "display_name": "Python 3"
    }
  },
  "cells": [
    {
      "cell_type": "markdown",
      "metadata": {
        "id": "view-in-github",
        "colab_type": "text"
      },
      "source": [
        "<a href=\"https://colab.research.google.com/github/ashpender/creative-coding/blob/main/Ash_Copy_of_PixelSortingDemo.ipynb\" target=\"_parent\"><img src=\"https://colab.research.google.com/assets/colab-badge.svg\" alt=\"Open In Colab\"/></a>"
      ]
    },
    {
      "cell_type": "markdown",
      "metadata": {
        "id": "WWn6s3hJFZs1"
      },
      "source": [
        "# Pixel Sorting Demo\n",
        "This notebook is a demonstration of how to accomplish pixel sorting in a Colab notebook. I use the [PyPI](https://pypi.org/project/pixelsort/) version of [satyarth's pixelsort script](http://www.github.com/satyarth/pixelsort) which is based on Kim Asendorf's original Processing script.\n"
      ]
    },
    {
      "cell_type": "markdown",
      "metadata": {
        "id": "cVyZxz0XFjSa"
      },
      "source": [
        "## Installing the Module\n",
        "The `pixelsort` module won't automatically be availabe in the environment, so you should first install it using `pip`."
      ]
    },
    {
      "cell_type": "code",
      "metadata": {
        "id": "5GovGGYrFAO2",
        "colab": {
          "base_uri": "https://localhost:8080/"
        },
        "outputId": "145433f8-d750-4aef-c78e-5d57f34fe3de"
      },
      "source": [
        "!pip install pixelsort"
      ],
      "execution_count": 1,
      "outputs": [
        {
          "output_type": "stream",
          "name": "stdout",
          "text": [
            "Collecting pixelsort\n",
            "  Downloading pixelsort-1.0.1-py3-none-any.whl.metadata (5.2 kB)\n",
            "Requirement already satisfied: Pillow in /usr/local/lib/python3.10/dist-packages (from pixelsort) (10.4.0)\n",
            "Downloading pixelsort-1.0.1-py3-none-any.whl (9.9 kB)\n",
            "Installing collected packages: pixelsort\n",
            "Successfully installed pixelsort-1.0.1\n"
          ]
        }
      ]
    },
    {
      "cell_type": "markdown",
      "metadata": {
        "id": "4Zsfe_7VF1nj"
      },
      "source": [
        "## Importing some Modules\n",
        "We don't need much to get `pixelsort` working, just import the `Image` module and `pixelsort`."
      ]
    },
    {
      "cell_type": "code",
      "metadata": {
        "id": "y2u4P8xTFuDe"
      },
      "source": [
        "from PIL import Image\n",
        "from pixelsort import pixelsort"
      ],
      "execution_count": 2,
      "outputs": []
    },
    {
      "cell_type": "markdown",
      "metadata": {
        "id": "mfGVCiIY7b9d"
      },
      "source": [
        "## Upload Some Files\n",
        "In order to try this out, you'll need at least one file to work on. Using the file manager of this notebook, upload a few images that you think will be interesting.\n",
        "\n",
        "Make sure they're named clearly with no spaces in the file name."
      ]
    },
    {
      "cell_type": "markdown",
      "metadata": {
        "id": "YYawuMrs7up6"
      },
      "source": [
        "## Try it out!\n",
        "Keep things simple at first with a basic trial run. The following snippet of code will open an image, process it, and then save it.\n",
        "\n",
        "Change the `in_file` value on line 1 to the path for the file you want to process, and change the `out_file` value on line 2 to a name for the processed file. The `out_file` name should end in `.png`."
      ]
    },
    {
      "cell_type": "code",
      "metadata": {
        "id": "zI_QSbGKF74z"
      },
      "source": [
        "in_file = \"/content/Funky Cloud.jpeg\"\n",
        "out_file = \"/content/demo.png\"\n",
        "\n",
        "img = Image.open(in_file)\n",
        "new_img = pixelsort(img)\n",
        "new_img.save(out_file)"
      ],
      "execution_count": 3,
      "outputs": []
    },
    {
      "cell_type": "markdown",
      "metadata": {
        "id": "VSSPcOOC8w8E"
      },
      "source": [
        "Check the results by doubleclicking the new file from the sidebar. (Note: you may need to refresh the sidebar to see the new file.)"
      ]
    },
    {
      "cell_type": "markdown",
      "metadata": {
        "id": "izF2Gttm89GB"
      },
      "source": [
        "## Iterate\n",
        "If you got the test run to work, now you can start to really have fun with it. The magic happens in line 5 of the snippet below, so try running different versions of this cell with different values in the parameters.\n",
        "\n",
        "Make sure you change the `out_file` value to something unique for each variation you want to compare -- otherwise, each run will overwrite a file with the same name."
      ]
    },
    {
      "cell_type": "code",
      "metadata": {
        "id": "1BTSZI-uHmIo"
      },
      "source": [
        "in_file = \"/content/Funky Cloud.jpeg\"\n",
        "out_file = \"/content/demo_1.png\"\n",
        "\n",
        "img = Image.open(in_file)\n",
        "new_img = pixelsort(img,angle=200,lower_threshold=0.5,upper_threshold=1.0,sorting_function='saturation')\n",
        "new_img.save(out_file)"
      ],
      "execution_count": 13,
      "outputs": []
    },
    {
      "cell_type": "markdown",
      "metadata": {
        "id": "5M7aAZX29el1"
      },
      "source": [
        "## Functions\n",
        "The various options are fairly [well-explained](https://github.com/satyarth/pixelsort) in the github version of the script, but the labels described there are for what you would use in a command line context. They won't work here, in other words.\n",
        "\n",
        "Here are the equivalent arguments you can use when sending paramaters `pixelsort` as a module:\n",
        "\n",
        "| Parameter              | Argument            | Description                                                                                                                                         |\n",
        "|------------------------|---------------------|-----------------------------------------------------------------------------------------------------------------------------------------------------|\n",
        "| Interval function      | `interval_function` | Controls how the intervals used for sorting are defined. See below for more details and examples. Threshold by default.                             |\n",
        "| Randomness             | `randomness`        | What percentage of intervals *not* to sort. 0 by default.                                                                                           |\n",
        "| Threshold (lower)      | `lower_threshold`   | How dark must a pixel be to be considered as a 'border' for sorting? Takes values from 0-1. 0.25 by default. Used in `edges` and `threshold` modes. |\n",
        "| Threshold (upper)      | `upper_threshold`   | How bright must a pixel be to be considered as a 'border' for sorting? Takes values from 0-1. 0.8 by default. Used in `threshold` mode.             |\n",
        "| Char. length           | `clength`           | Characteristic length for the random width generator. Used in mode `random` and `waves`.                                                            |\n",
        "| Angle                  | `angle`             | Angle at which you're pixel sorting in degrees. `0` (horizontal) by default.                                                                        |\n",
        "| External interval file | `interval_image`    | Image used to define intervals. Must be black and white.                                                                                            |\n",
        "| Sorting function       | `sorting_function`  | Sorting function to use for sorting the pixels. Lightness by default.                                                                               |\n",
        "| Mask                   | `mask_image`        | Image used for masking parts of the image.                                                                                                          |"
      ]
    },
    {
      "cell_type": "markdown",
      "metadata": {
        "id": "3Fw7gEfJ_4Cv"
      },
      "source": [
        "Several of these parameters have additional options that can be set. You can use the `interval_function` to specificy any of the following options:\n",
        "\n",
        "Interval function | Description\n",
        "------------------|------------\n",
        "`random`\t\t\t    | Randomly generate intervals. Distribution of widths is linear by default. Interval widths can be scaled using `clength`.\n",
        "`edges`\t\t\t\t    | Performs an edge detection, which is used to define intervals. Tweak threshold with `threshold`.\n",
        "`threshold`\t\t  \t| Intervals defined by lightness thresholds; only pixels with a lightness between the upper and lower thresholds are sorted.\n",
        "`waves`\t\t\t    \t| Intervals are waves of nearly uniform widths. Control width of waves with `clength`.\n",
        "`file`\t\t\t    \t| Intervals taken from another specified input image. Must be black and white, and the same size as the input image.\n",
        "`file-edges`\t  \t| Intevals defined by performing edge detection on the file specified by `-f`. Must be the same size as the input image.\n",
        "`none`\t\t\t    \t| Sort whole rows, only stopping at image borders."
      ]
    },
    {
      "cell_type": "markdown",
      "metadata": {
        "id": "-8XChQ_lAZDq"
      },
      "source": [
        "And you can use the `sorting_functon` to specify any of these methods for sorting:\n",
        "\n",
        "\n",
        "Sorting function  | Description\n",
        "------------------|------------\n",
        "`lightness`       | Sort by the lightness of a pixel according to a HSV representation.\n",
        "`hue`             | Sort by the hue of a pixel according to a HSV representation.\n",
        "`saturation`      | Sort by the saturation of a pixel according to a HSV representation.\n",
        "`intensity`       | Sort by the intensity of a pixel, i.e. the sum of all the RGB values.\n",
        "`minimum`         | Sort on the minimum RGB value of a pixel (either the R, G or B).\n"
      ]
    },
    {
      "cell_type": "markdown",
      "metadata": {
        "id": "F2FB9xM5IPpe"
      },
      "source": [
        "## Mask Example\n"
      ]
    },
    {
      "cell_type": "code",
      "metadata": {
        "id": "a2dzebAfH1nS"
      },
      "source": [
        "in_file = \"/content/cloud-smaller.jpg\"\n",
        "mask_file = \"/content/cloud-mask.png\"\n",
        "out_file = \"/content/demo_2.png\"\n",
        "\n",
        "\n",
        "img = Image.open(in_file)\n",
        "mask = Image.open(mask_file)\n",
        "new_img = pixelsort(img,mask_image=mask,angle=270,lower_threshold=0.5,upper_threshold=1.0,sorting_function='hue')\n",
        "new_img.save(out_file)"
      ],
      "execution_count": null,
      "outputs": []
    },
    {
      "cell_type": "code",
      "metadata": {
        "id": "S8wB9toas2RF"
      },
      "source": [
        "in_file  = \"/content/megatron.jpg\"\n",
        "out_file = \"/content/demo_combined.png\"\n",
        "img = Image.open(in_file)\n",
        "new_img = pixelsort(img,lower_threshold=0.0, upper_threshold=0.9, angle=45, sorting_function=\"saturation\")\n",
        "new_img.save(out_file)"
      ],
      "execution_count": null,
      "outputs": []
    }
  ]
}